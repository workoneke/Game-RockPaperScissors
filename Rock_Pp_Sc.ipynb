{
 "cells": [
  {
   "cell_type": "code",
   "execution_count": 2,
   "id": "be90834b",
   "metadata": {},
   "outputs": [],
   "source": [
    "import random"
   ]
  },
  {
   "cell_type": "code",
   "execution_count": 16,
   "id": "269bc546",
   "metadata": {},
   "outputs": [
    {
     "name": "stdout",
     "output_type": "stream",
     "text": [
      "Your Turn: Rock(R) Paper(P) or Scissors(S)? O\n",
      "You chose O\n",
      "Comp Turn: Rock(R) Paper(P) or Scissors(S)? \n",
      "Computer chose S\n",
      "The game is a tie!\n"
     ]
    }
   ],
   "source": [
    "# Rock Paper Scissors Game\n",
    "you = input(\"Your Turn: Rock(R) Paper(P) or Scissors(S)? \")\n",
    "print(f\"You chose {you}\")\n",
    "\n",
    "\n",
    "print(\"Comp Turn: Rock(R) Paper(P) or Scissors(S)? \")\n",
    "print(f\"Computer chose {comp}\")\n",
    "\n",
    "randNo = random.randint(1, 3) \n",
    "if randNo == 1:\n",
    "    comp = 'P'\n",
    "elif randNo == 2:\n",
    "    comp = 'R'\n",
    "elif randNo == 3:\n",
    "    comp = 'S'\n",
    "    \n",
    "    \n",
    "def gameWin(comp, you):\n",
    "    # If two values are equal, declare a tie!\n",
    "    if comp == you:\n",
    "        return None\n",
    "\n",
    "    # Check for all possibilities when computer chose s\n",
    "    elif comp == 'P':\n",
    "        if you=='R':\n",
    "            return False\n",
    "        elif you=='S':\n",
    "            return True\n",
    "    \n",
    "    # Check for all possibilities when computer chose w\n",
    "    elif comp == 'R':\n",
    "        if you=='S':\n",
    "            return False\n",
    "        elif you=='P':\n",
    "            return True\n",
    "    \n",
    "    # Check for all possibilities when computer chose g\n",
    "    elif comp == 'S':\n",
    "        if you=='P':\n",
    "            return False\n",
    "        elif you=='R':\n",
    "            return True    \n",
    "\n",
    "a = gameWin(comp, you)\n",
    "\n",
    "if a == None:\n",
    "    print(\"The game is a tie!\")\n",
    "elif a:\n",
    "    print(\"You Win!\")\n",
    "else:\n",
    "    print(\"You Lose!\")"
   ]
  },
  {
   "cell_type": "code",
   "execution_count": null,
   "id": "4d7b1158",
   "metadata": {},
   "outputs": [],
   "source": []
  }
 ],
 "metadata": {
  "kernelspec": {
   "display_name": "Python 3",
   "language": "python",
   "name": "python3"
  },
  "language_info": {
   "codemirror_mode": {
    "name": "ipython",
    "version": 3
   },
   "file_extension": ".py",
   "mimetype": "text/x-python",
   "name": "python",
   "nbconvert_exporter": "python",
   "pygments_lexer": "ipython3",
   "version": "3.8.8"
  }
 },
 "nbformat": 4,
 "nbformat_minor": 5
}
